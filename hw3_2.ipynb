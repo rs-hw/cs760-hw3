{
  "nbformat": 4,
  "nbformat_minor": 0,
  "metadata": {
    "colab": {
      "provenance": []
    },
    "kernelspec": {
      "name": "python3",
      "display_name": "Python 3"
    },
    "language_info": {
      "name": "python"
    }
  },
  "cells": [
    {
      "cell_type": "code",
      "execution_count": 2,
      "metadata": {
        "id": "KmPmcw2aQHiu"
      },
      "outputs": [],
      "source": [
        "import math\n",
        "import pandas as pd\n",
        "from matplotlib import pyplot as plt\n",
        "import numpy as np\n",
        "from sklearn import metrics\n",
        "from sklearn.neighbors import KNeighborsClassifier\n",
        "from sklearn.linear_model import LogisticRegression\n",
        "from sklearn.metrics import precision_score\n",
        "from sklearn.metrics import recall_score\n",
        "from sklearn.metrics import accuracy_score\n",
        "from sklearn.metrics import roc_curve, auc"
      ]
    },
    {
      "cell_type": "code",
      "source": [
        "df = pd.read_csv('data/emails.csv', sep=\",\")\n",
        "# Creating the individual splits\n",
        "df = df.drop(columns=df.columns[0])\n",
        "fold1_train = df.iloc[:1000, :]\n",
        "fold1_test = df.iloc[1000:, :]\n",
        "fold2_train = df.iloc[1000:2000, :]\n",
        "fold2_test = pd.concat([df.iloc[:1000, :], df.iloc[2000:, :]])\n",
        "fold3_train = df.iloc[2000:3000, :]\n",
        "fold3_test = fold2_test = pd.concat([df.iloc[:2000, :], df.iloc[3000:, :]])\n",
        "fold4_train = df.iloc[3000:4000, :]\n",
        "fold4_test = fold2_test = pd.concat([df.iloc[:3000, :], df.iloc[4000:, :]])\n",
        "fold5_train = df.iloc[4000:5000, :]\n",
        "fold5_test = df.iloc[:3000, :]\n",
        "\n",
        "for i in [1,3,5,7,10]:\n",
        "    var = 0\n",
        "    neigh = KNeighborsClassifier(n_neighbors=i)\n",
        "    neigh.fit(fold1_train.iloc[:, :-1], fold1_train.iloc[:, -1])\n",
        "    y_pred = neigh.predict(fold1_test.iloc[:, :-1])\n",
        "    var = var + accuracy_score(fold1_test.iloc[:, -1], y_pred)\n",
        "    print(\"1.Accuracy: \" + str(accuracy_score(fold1_test.iloc[:, -1], y_pred)))\n",
        "    print(\"1.Precision: \" + str(precision_score(fold1_test.iloc[:, -1], y_pred, average='binary')))\n",
        "    print(\"1.Recall: \" + str(recall_score(fold1_test.iloc[:, -1], y_pred, average='binary')))\n",
        "\n",
        "    neigh = KNeighborsClassifier(n_neighbors=i)\n",
        "    neigh.fit(fold2_train.iloc[:, :-1], fold2_train.iloc[:, -1])\n",
        "    y_pred = neigh.predict(fold2_test.iloc[:, :-1])\n",
        "    var = var + accuracy_score(fold2_test.iloc[:, -1], y_pred)\n",
        "    print(\"2.Accuracy: \" + str(accuracy_score(fold2_test.iloc[:, -1], y_pred)))\n",
        "    print(\"2.Precision: \" + str(precision_score(fold2_test.iloc[:, -1], y_pred, average='binary')))\n",
        "    print(\"2.Recall: \" + str(recall_score(fold2_test.iloc[:, -1], y_pred, average='binary')))\n",
        "\n",
        "    neigh = KNeighborsClassifier(n_neighbors=i)\n",
        "    neigh.fit(fold3_train.iloc[:, :-1], fold3_train.iloc[:, -1])\n",
        "    y_pred = neigh.predict(fold3_test.iloc[:, :-1])\n",
        "    var = var + accuracy_score(fold3_test.iloc[:, -1], y_pred)\n",
        "    print(\"3.Accuracy: \" + str(accuracy_score(fold3_test.iloc[:, -1], y_pred)))\n",
        "    print(\"3.Precision: \" + str(precision_score(fold3_test.iloc[:, -1], y_pred, average='binary')))\n",
        "    print(\"3.Recall: \" + str(recall_score(fold3_test.iloc[:, -1], y_pred, average='binary')))\n",
        "\n",
        "    neigh = KNeighborsClassifier(n_neighbors=i)\n",
        "    neigh.fit(fold4_train.iloc[:, :-1], fold4_train.iloc[:, -1])\n",
        "    y_pred = neigh.predict(fold4_test.iloc[:, :-1])\n",
        "    var = var + accuracy_score(fold4_test.iloc[:, -1], y_pred)\n",
        "    print(\"4.Accuracy: \" + str(accuracy_score(fold4_test.iloc[:, -1], y_pred)))\n",
        "    print(\"4.Precision: \" + str(precision_score(fold4_test.iloc[:, -1], y_pred, average='binary')))\n",
        "    print(\"4.Recall: \" + str(recall_score(fold4_test.iloc[:, -1], y_pred, average='binary')))\n",
        "\n",
        "    neigh = KNeighborsClassifier(n_neighbors=i)\n",
        "    neigh.fit(fold5_train.iloc[:, :-1], fold5_train.iloc[:, -1])\n",
        "    y_pred = neigh.predict(fold5_test.iloc[:, :-1])\n",
        "    var = var + accuracy_score(fold5_test.iloc[:, -1], y_pred)\n",
        "    print(\"5.Accuracy: \" + str(accuracy_score(fold5_test.iloc[:, -1], y_pred)))\n",
        "    print(\"5.Precision: \" + str(precision_score(fold5_test.iloc[:, -1], y_pred, average='binary')))\n",
        "    print(\"5.Recall: \" + str(recall_score(fold5_test.iloc[:, -1], y_pred, average='binary')))\n",
        "\n",
        "    print(\"Average Accuracy:\" + str(var/5))"
      ],
      "metadata": {
        "colab": {
          "base_uri": "https://localhost:8080/"
        },
        "id": "SrKk2exgQLYE",
        "outputId": "f80bf2d3-f735-4570-c039-fbb7aff49920"
      },
      "execution_count": 5,
      "outputs": [
        {
          "output_type": "stream",
          "name": "stdout",
          "text": [
            "1.Accuracy: 0.78875\n",
            "1.Precision: 0.6276252019386107\n",
            "1.Recall: 0.6692506459948321\n",
            "2.Accuracy: 0.8275\n",
            "2.Precision: 0.6661870503597123\n",
            "2.Recall: 0.8038194444444444\n",
            "3.Accuracy: 0.78675\n",
            "3.Precision: 0.6075156576200418\n",
            "3.Recall: 0.7512908777969018\n",
            "4.Accuracy: 0.76725\n",
            "4.Precision: 0.5714285714285714\n",
            "4.Recall: 0.7673611111111112\n",
            "5.Accuracy: 0.7373333333333333\n",
            "5.Precision: 0.5266544117647058\n",
            "5.Recall: 0.6773049645390071\n",
            "Average Accuracy:0.7815166666666667\n",
            "1.Accuracy: 0.80375\n",
            "1.Precision: 0.6652021089630932\n",
            "1.Recall: 0.6520241171403962\n",
            "2.Accuracy: 0.823\n",
            "2.Precision: 0.6646884272997032\n",
            "2.Recall: 0.7777777777777778\n",
            "3.Accuracy: 0.80225\n",
            "3.Precision: 0.6371027346637103\n",
            "3.Recall: 0.7418244406196214\n",
            "4.Accuracy: 0.781\n",
            "4.Precision: 0.5988538681948424\n",
            "4.Recall: 0.7256944444444444\n",
            "5.Accuracy: 0.7523333333333333\n",
            "5.Precision: 0.55053974484789\n",
            "5.Recall: 0.6631205673758865\n",
            "Average Accuracy:0.7924666666666667\n",
            "1.Accuracy: 0.811\n",
            "1.Precision: 0.6930409914204004\n",
            "1.Recall: 0.6261843238587425\n",
            "2.Accuracy: 0.83225\n",
            "2.Precision: 0.6851424172440339\n",
            "2.Recall: 0.7725694444444444\n",
            "3.Accuracy: 0.79825\n",
            "3.Precision: 0.6383476227591582\n",
            "3.Recall: 0.7048192771084337\n",
            "4.Accuracy: 0.792\n",
            "4.Precision: 0.6176470588235294\n",
            "4.Recall: 0.7291666666666666\n",
            "5.Accuracy: 0.7586666666666667\n",
            "5.Precision: 0.5603960396039604\n",
            "5.Recall: 0.6690307328605201\n",
            "Average Accuracy:0.7984333333333333\n",
            "1.Accuracy: 0.8065\n",
            "1.Precision: 0.6948640483383686\n",
            "1.Recall: 0.5943152454780362\n",
            "2.Accuracy: 0.83\n",
            "2.Precision: 0.6870047543581617\n",
            "2.Recall: 0.7526041666666666\n",
            "3.Accuracy: 0.79925\n",
            "3.Precision: 0.6497080900750626\n",
            "3.Recall: 0.6703958691910499\n",
            "4.Accuracy: 0.791\n",
            "4.Precision: 0.6177347242921013\n",
            "4.Recall: 0.7196180555555556\n",
            "5.Accuracy: 0.7563333333333333\n",
            "5.Precision: 0.5595854922279793\n",
            "5.Recall: 0.6382978723404256\n",
            "Average Accuracy:0.7966166666666666\n",
            "1.Accuracy: 0.8045\n",
            "1.Precision: 0.7457846952010376\n",
            "1.Recall: 0.49526270456503013\n",
            "2.Accuracy: 0.83375\n",
            "2.Precision: 0.7375609756097561\n",
            "2.Recall: 0.65625\n",
            "3.Accuracy: 0.8005\n",
            "3.Precision: 0.6944444444444444\n",
            "3.Recall: 0.5593803786574871\n",
            "4.Accuracy: 0.7955\n",
            "4.Precision: 0.6549165120593692\n",
            "4.Recall: 0.6128472222222222\n",
            "5.Accuracy: 0.7756666666666666\n",
            "5.Precision: 0.6093552465233881\n",
            "5.Recall: 0.5697399527186762\n",
            "Average Accuracy:0.8019833333333333\n"
          ]
        }
      ]
    },
    {
      "cell_type": "code",
      "source": [
        "single_train = df.iloc[:4000, :]\n",
        "single_test = df.iloc[4000:5000, :]\n",
        "\n",
        "\n",
        "neigh = KNeighborsClassifier(n_neighbors=5)\n",
        "neigh.fit(single_train.iloc[:, :-1], single_train.iloc[:, -1])\n",
        "y_pred = neigh.predict(single_test.iloc[:, :-1])\n",
        "fpr, tpr, threshold = roc_curve(single_test.iloc[:, -1], y_pred)\n",
        "\n",
        "lr = LogisticRegression(max_iter=1000)\n",
        "lr.fit(single_train.iloc[:, :-1], single_train.iloc[:,-1])\n",
        "predicted_classes = lr.predict(single_test.iloc[:, :-1])\n",
        "\n",
        "plt.plot(fpr, tpr,  color=\"green\", label=\"kNeighborsClassifier : AUC = 0.7\")\n",
        "fpr, tpr, threshold = roc_curve(single_test.iloc[:, -1], predicted_classes)\n",
        "plt.plot(fpr, tpr, color=\"blue\", label=\"Logistic Regression : AUC = 0.9\")\n",
        "plt.legend(loc = 'lower right')\n",
        "plt.plot([0, 1], [0, 1],'p--')\n",
        "plt.xlim([0, 1])\n",
        "plt.ylim([0, 1])\n",
        "plt.ylabel('True Positive Rate (Positive label:1')\n",
        "plt.xlabel('False Positive Rate (Positive label: 1')\n",
        "plt.show()"
      ],
      "metadata": {
        "colab": {
          "base_uri": "https://localhost:8080/",
          "height": 283
        },
        "id": "n0x3TOWbRUCu",
        "outputId": "ecb11a1d-92c3-4e59-87a7-1c11ccac010c"
      },
      "execution_count": 8,
      "outputs": [
        {
          "output_type": "display_data",
          "data": {
            "text/plain": [
              "<Figure size 432x288 with 1 Axes>"
            ],
            "image/png": "[encoded data removed]"
          },
          "metadata": {
            "needs_background": "light"
          }
        }
      ]
    },
    {
      "cell_type": "code",
      "source": [
        "def sigmoid(z):\n",
        "    return 1.0/(1 + np.exp(-z))\n",
        "\n",
        "def loss(y, y_hat):\n",
        "    loss = -np.mean(y*(np.log(y_hat)) - (1-y)*np.log(1-y_hat))\n",
        "    return loss\n",
        "\n",
        "def gradients(X, y, y_hat):\n",
        "    \n",
        "    # X --> Input.\n",
        "    # y --> true/target value.\n",
        "    # y_hat --> hypothesis/predictions.\n",
        "    # w --> weights (parameter).\n",
        "    # b --> bias (parameter).\n",
        "    \n",
        "    # m-> number of training examples.\n",
        "    m = X.shape[0]\n",
        "    \n",
        "    # Gradient of loss w.r.t weights.\n",
        "    dw = (1/m)*np.dot(X.T, (y_hat - y))\n",
        "    \n",
        "    # Gradient of loss w.r.t bias.\n",
        "    db = (1/m)*np.sum((y_hat - y)) \n",
        "    \n",
        "    return dw, db\n",
        "\n",
        "def train(X, y, bs, epochs, lr):\n",
        "    \n",
        "    # X --> Input.\n",
        "    # y --> true/target value.\n",
        "    # bs --> Batch Size.\n",
        "    # epochs --> Number of iterations.\n",
        "    # lr --> Learning rate.      \n",
        "    # m-> number of training examples\n",
        "    # n-> number of features \n",
        "    X = np.array(X)\n",
        "    y = np.array(y)\n",
        "    m, n = X.shape\n",
        "    w = np.zeros((n,1))\n",
        "    b = 0\n",
        "    y = y.reshape(m,1)\n",
        "    losses = []\n",
        "    \n",
        "    # Training loop.\n",
        "    for epoch in range(epochs):\n",
        "        for i in range((m-1)//bs + 1):\n",
        "            \n",
        "            # Defining batches. SGD.\n",
        "            start_i = i*bs\n",
        "            end_i = start_i + bs\n",
        "            xb = X[start_i:end_i]\n",
        "            yb = y[start_i:end_i]\n",
        "            \n",
        "            # Calculating hypothesis/prediction.\n",
        "            y_hat = sigmoid(np.dot(xb, w) + b)\n",
        "            \n",
        "            # Getting the gradients of loss w.r.t parameters.\n",
        "            dw, db = gradients(xb, yb, y_hat)\n",
        "            \n",
        "            # Updating the parameters.\n",
        "            w -= lr*dw\n",
        "            b -= lr*db\n",
        "        \n",
        "        # Calculating loss and appending it in the list.\n",
        "        l = loss(y, sigmoid(np.dot(X, w) + b))\n",
        "        losses.append(l)\n",
        "        \n",
        "    # returning weights, bias and losses(List).\n",
        "    return w, b, losses\n",
        "\n",
        "def predict(X):\n",
        "    preds = sigmoid(np.dot(X, w) + b)\n",
        "    pred_class = []\n",
        "    pred_class = [1 if i > 0.5 else 0 for i in preds]\n",
        "    return np.array(pred_class)\n",
        "\n",
        "def accuracy(y, y_hat):\n",
        "    accuracy = np.sum(y == y_hat) / len(y)\n",
        "    return accuracy\n",
        "\n",
        "model1fold = LogisticRegression(max_iter=1000)\n",
        "w, b, l = train(fold1_train.iloc[:, :-1], fold1_train.iloc[:,-1], bs=100, epochs=1000, lr=0.01)\n",
        "predicted_c = predict(fold1_test.iloc[:, :-1])\n",
        "print(\"1.Accuracy\"+str(accuracy(np.array(fold1_test.iloc[:, -1]),predicted_c)))\n",
        "print(\"1.Precision: \" + str(precision_score(fold1_test.iloc[:, -1], predicted_c, average='binary')))\n",
        "print(\"1.Recall: \" + str(recall_score(fold1_test.iloc[:, -1], predicted_c, average='binary')))\n",
        "\n",
        "w, b, l = train(fold2_train.iloc[:, :-1], fold2_train.iloc[:,-1], bs=100, epochs=1000, lr=0.01)\n",
        "predicted_c = predict(fold2_test.iloc[:, :-1])\n",
        "print(\"2.Accuracy\"+str(accuracy(np.array(fold2_test.iloc[:, -1]),predicted_c)))\n",
        "print(\"2.Precision: \" + str(precision_score(fold2_test.iloc[:, -1], predicted_c, average='binary')))\n",
        "print(\"2.Recall: \" + str(recall_score(fold2_test.iloc[:, -1], predicted_c, average='binary')))\n",
        "\n",
        "w, b, l = train(fold3_train.iloc[:, :-1], fold3_train.iloc[:,-1], bs=100, epochs=1000, lr=0.01)\n",
        "predicted_c = predict(fold3_test.iloc[:, :-1])\n",
        "print(\"3.Accuracy\"+str(accuracy(np.array(fold3_test.iloc[:, -1]),predicted_c)))\n",
        "print(\"3.Precision: \" + str(precision_score(fold3_test.iloc[:, -1], predicted_c, average='binary')))\n",
        "print(\"3.Recall: \" + str(recall_score(fold3_test.iloc[:, -1], predicted_c, average='binary')))\n",
        "\n",
        "w, b, l = train(fold4_train.iloc[:, :-1], fold4_train.iloc[:,-1], bs=100, epochs=1000, lr=0.01)\n",
        "predicted_c = predict(fold4_test.iloc[:, :-1])\n",
        "print(\"4.Accuracy\"+str(accuracy(np.array(fold4_test.iloc[:, -1]),predicted_c)))\n",
        "print(\"4.Precision: \" + str(precision_score(fold4_test.iloc[:, -1], predicted_c, average='binary')))\n",
        "print(\"4.Recall: \" + str(recall_score(fold4_test.iloc[:, -1], predicted_c, average='binary')))\n",
        "\n",
        "w, b, l = train(fold5_train.iloc[:, :-1], fold5_train.iloc[:,-1], bs=100, epochs=1000, lr=0.01)\n",
        "predicted_c = predict(fold5_test.iloc[:, :-1])\n",
        "print(\"5.Accuracy\"+str(accuracy(np.array(fold5_test.iloc[:, -1]),predicted_c)))\n",
        "print(\"5.Precision: \" + str(precision_score(fold5_test.iloc[:, -1], predicted_c, average='binary')))\n",
        "print(\"5.Recall: \" + str(recall_score(fold5_test.iloc[:, -1], predicted_c, average='binary')))"
      ],
      "metadata": {
        "colab": {
          "base_uri": "https://localhost:8080/"
        },
        "id": "62VTioykXPMJ",
        "outputId": "504c06a6-732f-47bc-c358-fb04d89bf8dc"
      },
      "execution_count": 9,
      "outputs": [
        {
          "output_type": "stream",
          "name": "stderr",
          "text": [
            "<ipython-input-9-619155750e45>:2: RuntimeWarning: overflow encountered in exp\n",
            "  return 1.0/(1 + np.exp(-z))\n",
            "<ipython-input-9-619155750e45>:5: RuntimeWarning: divide by zero encountered in log\n",
            "  loss = -np.mean(y*(np.log(y_hat)) - (1-y)*np.log(1-y_hat))\n",
            "<ipython-input-9-619155750e45>:5: RuntimeWarning: invalid value encountered in multiply\n",
            "  loss = -np.mean(y*(np.log(y_hat)) - (1-y)*np.log(1-y_hat))\n"
          ]
        },
        {
          "output_type": "stream",
          "name": "stdout",
          "text": [
            "1.Accuracy0.90975\n",
            "1.Precision: 0.8539823008849557\n",
            "1.Recall: 0.8311800172265289\n"
          ]
        },
        {
          "output_type": "stream",
          "name": "stderr",
          "text": [
            "<ipython-input-9-619155750e45>:2: RuntimeWarning: overflow encountered in exp\n",
            "  return 1.0/(1 + np.exp(-z))\n",
            "<ipython-input-9-619155750e45>:5: RuntimeWarning: divide by zero encountered in log\n",
            "  loss = -np.mean(y*(np.log(y_hat)) - (1-y)*np.log(1-y_hat))\n",
            "<ipython-input-9-619155750e45>:5: RuntimeWarning: invalid value encountered in multiply\n",
            "  loss = -np.mean(y*(np.log(y_hat)) - (1-y)*np.log(1-y_hat))\n"
          ]
        },
        {
          "output_type": "stream",
          "name": "stdout",
          "text": [
            "2.Accuracy0.9325\n",
            "2.Precision: 0.8756388415672913\n",
            "2.Recall: 0.8923611111111112\n"
          ]
        },
        {
          "output_type": "stream",
          "name": "stderr",
          "text": [
            "<ipython-input-9-619155750e45>:2: RuntimeWarning: overflow encountered in exp\n",
            "  return 1.0/(1 + np.exp(-z))\n",
            "<ipython-input-9-619155750e45>:5: RuntimeWarning: divide by zero encountered in log\n",
            "  loss = -np.mean(y*(np.log(y_hat)) - (1-y)*np.log(1-y_hat))\n",
            "<ipython-input-9-619155750e45>:5: RuntimeWarning: invalid value encountered in multiply\n",
            "  loss = -np.mean(y*(np.log(y_hat)) - (1-y)*np.log(1-y_hat))\n"
          ]
        },
        {
          "output_type": "stream",
          "name": "stdout",
          "text": [
            "3.Accuracy0.918\n",
            "3.Precision: 0.8252730109204368\n",
            "3.Recall: 0.9104991394148021\n"
          ]
        },
        {
          "output_type": "stream",
          "name": "stderr",
          "text": [
            "<ipython-input-9-619155750e45>:2: RuntimeWarning: overflow encountered in exp\n",
            "  return 1.0/(1 + np.exp(-z))\n",
            "<ipython-input-9-619155750e45>:5: RuntimeWarning: divide by zero encountered in log\n",
            "  loss = -np.mean(y*(np.log(y_hat)) - (1-y)*np.log(1-y_hat))\n",
            "<ipython-input-9-619155750e45>:5: RuntimeWarning: invalid value encountered in multiply\n",
            "  loss = -np.mean(y*(np.log(y_hat)) - (1-y)*np.log(1-y_hat))\n"
          ]
        },
        {
          "output_type": "stream",
          "name": "stdout",
          "text": [
            "4.Accuracy0.9215\n",
            "4.Precision: 0.8599656357388317\n",
            "4.Recall: 0.8689236111111112\n"
          ]
        },
        {
          "output_type": "stream",
          "name": "stderr",
          "text": [
            "<ipython-input-9-619155750e45>:2: RuntimeWarning: overflow encountered in exp\n",
            "  return 1.0/(1 + np.exp(-z))\n",
            "<ipython-input-9-619155750e45>:5: RuntimeWarning: divide by zero encountered in log\n",
            "  loss = -np.mean(y*(np.log(y_hat)) - (1-y)*np.log(1-y_hat))\n",
            "<ipython-input-9-619155750e45>:5: RuntimeWarning: invalid value encountered in multiply\n",
            "  loss = -np.mean(y*(np.log(y_hat)) - (1-y)*np.log(1-y_hat))\n"
          ]
        },
        {
          "output_type": "stream",
          "name": "stdout",
          "text": [
            "5.Accuracy0.9283333333333333\n",
            "5.Precision: 0.872491145218418\n",
            "5.Recall: 0.8735224586288416\n"
          ]
        }
      ]
    }
  ]
}