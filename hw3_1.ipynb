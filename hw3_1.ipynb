{
  "nbformat": 4,
  "nbformat_minor": 0,
  "metadata": {
    "colab": {
      "provenance": []
    },
    "kernelspec": {
      "name": "python3",
      "display_name": "Python 3"
    },
    "language_info": {
      "name": "python"
    }
  },
  "cells": [
    {
      "cell_type": "code",
      "execution_count": 1,
      "metadata": {
        "id": "EVJEEyOXLsmx"
      },
      "outputs": [],
      "source": [
        "import math\n",
        "import pandas as pd\n",
        "from matplotlib import pyplot as plt\n",
        "import numpy as np"
      ]
    },
    {
      "cell_type": "code",
      "source": [
        "# Calculate the Euclidean distance\n",
        "def euclidean_distance(a, b):\n",
        "    b = np.array(b)[0:2]\n",
        "    return np.linalg.norm(a - b)\n",
        "\n",
        "# Locate most similar neighbors\n",
        "def get_neighbors(train, test_row, num_neighbors):\n",
        "    distances = list()\n",
        "    for index, train_row in train.iterrows():\n",
        "        dist = euclidean_distance(test_row, train_row)\n",
        "        distances.append((train_row, dist))\n",
        "    distances.sort(key=lambda tup: tup[1])\n",
        "    neighbors = []\n",
        "    for i in range(num_neighbors):\n",
        "        neighbors.append(distances[i][0])\n",
        "    return neighbors\n",
        "\n",
        "# Make a prediction with neighbors\n",
        "def classify(train, test_row, num_neighbors):\n",
        "    neighbors = get_neighbors(train, test_row, num_neighbors)\n",
        "    output_values = [row[-1] for row in neighbors]\n",
        "    prediction = max(set(output_values), key=output_values.count)\n",
        "    return prediction\n",
        "    \n",
        "def knn(train, test, num_neighbors):\n",
        "    predictions = []\n",
        "    for row in test:\n",
        "        output = classify(train, row, num_neighbors)\n",
        "        predictions.append(output)\n",
        "    return(predictions)"
      ],
      "metadata": {
        "id": "2YlCJx6KMBbz"
      },
      "execution_count": 2,
      "outputs": []
    },
    {
      "cell_type": "code",
      "source": [
        "df = pd.read_csv('data/D2z.txt', sep=\" \", header=None)\n",
        "df.columns = ['x1', 'x2', 'y']\n",
        "cols = df.columns\n",
        "df[cols] = df[cols].apply(pd.to_numeric, errors='coerce')\n",
        "x1_test = []\n",
        "x2_test = []\n",
        "for i, idx in enumerate(np.arange(-2, 2.1, 0.1)):\n",
        "    for j, jdx in enumerate(np.arange(-2, 2.1, 0.1)):\n",
        "        x1_test.append(idx)\n",
        "        x2_test.append(jdx)\n",
        "x1_test = np.array(x1_test)\n",
        "x2_test = np.array(x2_test)\n",
        "test = np.vstack((x1_test, x2_test)).T\n",
        "\n",
        "prediction = np.array(knn(df, test, 1))\n",
        "test = np.append(test, prediction.reshape(1681,1), 1)\n",
        "\n",
        "x1_test_pos = test[test[:, 2]==1][:, 0]\n",
        "x2_test_pos = test[test[:, 2]==1][:, 1]\n",
        "\n",
        "x1_test_neg = test[test[:, 2]==0][:, 0]\n",
        "x2_test_neg = test[test[:, 2]==0][:, 1]\n",
        "\n",
        "x1_train_pos = np.array(df[df['y'] == 1]['x1'])\n",
        "x2_train_pos = np.array(df[df['y'] == 1]['x2'])\n",
        "x1_train_neg = np.array(df[df['y'] == 0]['x1'])\n",
        "x2_train_neg = np.array(df[df['y'] == 0]['x2'])\n",
        "fig, ax = plt.subplots()\n",
        "plt.plot(x1_test_pos, x2_test_pos, '.', color='red', markersize=2)\n",
        "plt.plot(x1_test_neg, x2_test_neg, '.', color='blue', markersize=2)\n",
        "plt.plot(x1_train_pos, x2_train_pos, 'o', color='red', markersize=2)\n",
        "plt.plot(x1_train_neg, x2_train_neg, 'x', color='blue', markersize=2)\n",
        "plt.xlim(-2, 2)\n",
        "plt.ylim(-2, 2)\n",
        "ax.set_aspect('equal')\n",
        "plt.show()"
      ],
      "metadata": {
        "colab": {
          "base_uri": "https://localhost:8080/",
          "height": 269
        },
        "id": "yoyl3Cp9M5in",
        "outputId": "0a42e563-bd25-45d3-9abc-8f4614cf4282"
      },
      "execution_count": 6,
      "outputs": [
        {
          "output_type": "display_data",
          "data": {
            "text/plain": [
              "<Figure size 432x288 with 1 Axes>"
            ],
            "image/png": "[encoded data removed]"
          },
          "metadata": {
            "needs_background": "light"
          }
        }
      ]
    }
  ]
}